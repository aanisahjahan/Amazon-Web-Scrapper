{
 "cells": [
  {
   "cell_type": "code",
   "execution_count": null,
   "id": "72523609",
   "metadata": {},
   "outputs": [],
   "source": [
    "from bs4 import BeautifulSoup\n",
    "import requests\n",
    "import smtplib\n",
    "import time\n",
    "import datetime"
   ]
  },
  {
   "cell_type": "code",
   "execution_count": null,
   "id": "496caed5",
   "metadata": {},
   "outputs": [],
   "source": [
    "URL = 'https://www.amazon.co.uk/gp/product/B0B3R8RVB5/ref=ox_sc_act_title_18?smid=A2N4I5BAM7AI0S&psc=1'\n",
    "headers = {\"User-Agent\": \"Mozilla/5.0 (Windows NT 10.0; Win64; x64; rv:128.0) Gecko/20100101 Firefox/128.0\"}\n",
    "\n",
    "page = requests.get(URL, headers=headers)\n",
    "soup = BeautifulSoup(page.content, \"html.parser\")\n",
    "\n",
    "title = soup.find(id='productTitle').get_text(strip=True)\n",
    "\n",
    "price_whole = soup.find(\"span\", class_=\"a-price-whole\")\n",
    "price_fraction = soup.find(\"span\", class_=\"a-price-fraction\")\n",
    "\n",
    "price = f\"{price_whole.get_text(strip=True)}{price_fraction.get_text(strip=True)}\"\n",
    "\n",
    "print(title)\n",
    "print(price)\n"
   ]
  },
  {
   "cell_type": "code",
   "execution_count": null,
   "id": "f538e118",
   "metadata": {},
   "outputs": [],
   "source": [
    "today = datetime.date.today()\n",
    "\n",
    "print(today)"
   ]
  },
  {
   "cell_type": "code",
   "execution_count": null,
   "id": "4d1fdb53",
   "metadata": {},
   "outputs": [],
   "source": [
    "import csv\n",
    "\n",
    "header = ['Title','Price', 'Date']\n",
    "data = [title, price, today]\n",
    "\n",
    "with open('AmazonWebScrapper.csv', 'w', newline='', encoding='UTF8') as f:\n",
    "    writer = csv.writer(f)\n",
    "    writer.writerow(header)\n",
    "    writer.writerow(data)"
   ]
  },
  {
   "cell_type": "code",
   "execution_count": null,
   "id": "64bc285e",
   "metadata": {},
   "outputs": [],
   "source": [
    "import pandas as pd\n",
    "\n",
    "df = pd.read_csv(r'C:\\Users\\AANISAH JAHAN\\Documents\\AmazonWebScrapper.csv')\n",
    "\n",
    "print(df)"
   ]
  },
  {
   "cell_type": "code",
   "execution_count": null,
   "id": "1d1f477f",
   "metadata": {},
   "outputs": [],
   "source": [
    "# Append to csv\n",
    "\n",
    "with open('AmazonWebScrapper.csv', 'a+', newline='', encoding='UTF8') as f:\n",
    "    writer = csv.writer(f)\n",
    "    writer.writerow(data)"
   ]
  },
  {
   "cell_type": "code",
   "execution_count": null,
   "id": "5c4dbb41",
   "metadata": {},
   "outputs": [],
   "source": [
    "def check_price():\n",
    "    URL = 'https://www.amazon.co.uk/gp/product/B0B3R8RVB5/ref=ox_sc_act_title_18?smid=A2N4I5BAM7AI0S&psc=1'\n",
    "    headers = {\"User-Agent\": \"Mozilla/5.0 (Windows NT 10.0; Win64; x64; rv:128.0) Gecko/20100101 Firefox/128.0\"}\n",
    "\n",
    "    page = requests.get(URL, headers=headers)\n",
    "    soup = BeautifulSoup(page.content, \"html.parser\")\n",
    "\n",
    "    title = soup.find(id='productTitle').get_text(strip=True)\n",
    "\n",
    "    price_whole = soup.find(\"span\", class_=\"a-price-whole\")\n",
    "    price_fraction = soup.find(\"span\", class_=\"a-price-fraction\")\n",
    "\n",
    "    price = f\"{price_whole.get_text(strip=True)}{price_fraction.get_text(strip=True)}\"\n",
    "    \n",
    "    import datetime\n",
    "    today = datetime.date.today()\n",
    "    \n",
    "    import csv\n",
    "\n",
    "    header = ['Title','Price', 'Date']\n",
    "    data = [title, price, today]\n",
    "    \n",
    "    with open('AmazonWebScrapper.csv', 'a+', newline='', encoding='UTF8') as f:\n",
    "        writer = csv.writer(f)\n",
    "        writer.writerow(data)\n",
    "    "
   ]
  },
  {
   "cell_type": "code",
   "execution_count": null,
   "id": "bd0bea12",
   "metadata": {},
   "outputs": [],
   "source": [
    "while(True):\n",
    "    check_price()\n",
    "    time.sleep(86400)"
   ]
  },
  {
   "cell_type": "code",
   "execution_count": null,
   "id": "33541842",
   "metadata": {},
   "outputs": [],
   "source": [
    "import pandas as pd\n",
    "\n",
    "df = pd.read_csv(r'C:\\Users\\AANISAH JAHAN\\Documents\\AmazonWebScrapper.csv')\n",
    "\n",
    "print(df)"
   ]
  }
 ],
 "metadata": {
  "kernelspec": {
   "display_name": "Python 3 (ipykernel)",
   "language": "python",
   "name": "python3"
  },
  "language_info": {
   "codemirror_mode": {
    "name": "ipython",
    "version": 3
   },
   "file_extension": ".py",
   "mimetype": "text/x-python",
   "name": "python",
   "nbconvert_exporter": "python",
   "pygments_lexer": "ipython3",
   "version": "3.11.5"
  }
 },
 "nbformat": 4,
 "nbformat_minor": 5
}
